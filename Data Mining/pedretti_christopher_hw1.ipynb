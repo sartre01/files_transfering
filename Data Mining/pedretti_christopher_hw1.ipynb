{
 "cells": [
  {
   "cell_type": "code",
   "execution_count": 1,
   "id": "b6eb74e5",
   "metadata": {},
   "outputs": [],
   "source": [
    "import pandas as pd\n",
    "import numpy as np\n",
    "import matplotlib.pyplot as plt\n",
    "#import jupytext"
   ]
  },
  {
   "cell_type": "code",
   "execution_count": 2,
   "id": "467df4b9",
   "metadata": {},
   "outputs": [],
   "source": [
    "dfile = r'C:\\Users\\chris_pedretti\\Downloads\\hw1_data.csv'"
   ]
  },
  {
   "cell_type": "code",
   "execution_count": 3,
   "id": "0890e175",
   "metadata": {
    "lines_to_next_cell": 2
   },
   "outputs": [],
   "source": [
    "hdata = pd.read_csv(dfile)"
   ]
  },
  {
   "cell_type": "code",
   "execution_count": 4,
   "id": "0562f399",
   "metadata": {},
   "outputs": [
    {
     "name": "stdout",
     "output_type": "stream",
     "text": [
      "1460 samples in the dataset\n"
     ]
    }
   ],
   "source": [
    "nsamples = len(hdata)\n",
    "print(f'{nsamples} samples in the dataset')"
   ]
  },
  {
   "cell_type": "code",
   "execution_count": 5,
   "id": "e098b574",
   "metadata": {},
   "outputs": [],
   "source": [
    "# Check data types of columns\n",
    "data_types = hdata.dtypes"
   ]
  },
  {
   "cell_type": "code",
   "execution_count": 6,
   "id": "74031547",
   "metadata": {},
   "outputs": [],
   "source": [
    "# Separate columns into categorical and continuous based on data types\n",
    "categvars = data_types[data_types == \"object\"]\n",
    "continuvars = data_types[data_types != \"object\"]"
   ]
  },
  {
   "cell_type": "code",
   "execution_count": 7,
   "id": "0a0ded87",
   "metadata": {},
   "outputs": [],
   "source": [
    "numcateg = len(continuvars)\n",
    "numcontinu = len(categvars)"
   ]
  },
  {
   "cell_type": "code",
   "execution_count": 8,
   "id": "4632c03c",
   "metadata": {},
   "outputs": [
    {
     "name": "stdout",
     "output_type": "stream",
     "text": [
      "81 total features\n",
      "Number of categorical features: 43\n",
      "Number of continuous features: 38\n"
     ]
    }
   ],
   "source": [
    "ncols = hdata.shape[1]\n",
    "print(f\"{ncols} total features\")\n",
    "print(\"Number of categorical features:\", numcontinu)\n",
    "print(\"Number of continuous features:\", numcateg)\n"
   ]
  },
  {
   "cell_type": "code",
   "execution_count": 9,
   "id": "eee7ea6b",
   "metadata": {},
   "outputs": [],
   "source": [
    "# Access the column\n",
    "column_data = hdata['SalePrice']"
   ]
  },
  {
   "cell_type": "code",
   "execution_count": 10,
   "id": "7908e1c8",
   "metadata": {},
   "outputs": [],
   "source": [
    "# Calculate the minimum, maximum, mean, and standard deviation\n",
    "column_min = column_data.min()\n",
    "column_max = column_data.max()\n",
    "column_mean = column_data.mean()\n",
    "column_std = column_data.std()"
   ]
  },
  {
   "cell_type": "code",
   "execution_count": 11,
   "id": "1294bf16",
   "metadata": {},
   "outputs": [
    {
     "name": "stdout",
     "output_type": "stream",
     "text": [
      "Minimum: 34900\n",
      "Maximum: 755000\n",
      "Mean: 180921.19589041095\n",
      "Standard Deviation: 79442.50288288662\n"
     ]
    }
   ],
   "source": [
    "print(\"Minimum:\", column_min)\n",
    "print(\"Maximum:\", column_max)\n",
    "print(\"Mean:\", column_mean)\n",
    "print(\"Standard Deviation:\", column_std)"
   ]
  },
  {
   "cell_type": "code",
   "execution_count": 12,
   "id": "57c7bd6b",
   "metadata": {},
   "outputs": [],
   "source": [
    "mvalues = hdata.isnull().sum()\n",
    "#print(type(mvalues)) was confused that mvalues was a dataframe of true/falses rather than an int...\n",
    "pmissing = (mvalues / nsamples) * 100"
   ]
  },
  {
   "cell_type": "code",
   "execution_count": 13,
   "id": "f82573b4",
   "metadata": {
    "lines_to_next_cell": 2
   },
   "outputs": [
    {
     "name": "stdout",
     "output_type": "stream",
     "text": [
      "Percentage of missing values in 'Id': 0.00%\n",
      "Percentage of missing values in 'MSSubClass': 0.00%\n",
      "Percentage of missing values in 'MSZoning': 0.00%\n",
      "Percentage of missing values in 'LotFrontage': 17.74%\n",
      "Percentage of missing values in 'LotArea': 0.00%\n",
      "Percentage of missing values in 'Street': 0.00%\n",
      "Percentage of missing values in 'Alley': 93.77%\n",
      "Percentage of missing values in 'LotShape': 0.00%\n",
      "Percentage of missing values in 'LandContour': 0.00%\n",
      "Percentage of missing values in 'Utilities': 0.00%\n",
      "Percentage of missing values in 'LotConfig': 0.00%\n",
      "Percentage of missing values in 'LandSlope': 0.00%\n",
      "Percentage of missing values in 'Neighborhood': 0.00%\n",
      "Percentage of missing values in 'Condition1': 0.00%\n",
      "Percentage of missing values in 'Condition2': 0.00%\n",
      "Percentage of missing values in 'BldgType': 0.00%\n",
      "Percentage of missing values in 'HouseStyle': 0.00%\n",
      "Percentage of missing values in 'OverallQual': 0.00%\n",
      "Percentage of missing values in 'OverallCond': 0.00%\n",
      "Percentage of missing values in 'YearBuilt': 0.00%\n",
      "Percentage of missing values in 'YearRemodAdd': 0.00%\n",
      "Percentage of missing values in 'RoofStyle': 0.00%\n",
      "Percentage of missing values in 'RoofMatl': 0.00%\n",
      "Percentage of missing values in 'Exterior1st': 0.00%\n",
      "Percentage of missing values in 'Exterior2nd': 0.00%\n",
      "Percentage of missing values in 'MasVnrType': 59.73%\n",
      "Percentage of missing values in 'MasVnrArea': 0.55%\n",
      "Percentage of missing values in 'ExterQual': 0.00%\n",
      "Percentage of missing values in 'ExterCond': 0.00%\n",
      "Percentage of missing values in 'Foundation': 0.00%\n",
      "Percentage of missing values in 'BsmtQual': 2.53%\n",
      "Percentage of missing values in 'BsmtCond': 2.53%\n",
      "Percentage of missing values in 'BsmtExposure': 2.60%\n",
      "Percentage of missing values in 'BsmtFinType1': 2.53%\n",
      "Percentage of missing values in 'BsmtFinSF1': 0.00%\n",
      "Percentage of missing values in 'BsmtFinType2': 2.60%\n",
      "Percentage of missing values in 'BsmtFinSF2': 0.00%\n",
      "Percentage of missing values in 'BsmtUnfSF': 0.00%\n",
      "Percentage of missing values in 'TotalBsmtSF': 0.00%\n",
      "Percentage of missing values in 'Heating': 0.00%\n",
      "Percentage of missing values in 'HeatingQC': 0.00%\n",
      "Percentage of missing values in 'CentralAir': 0.00%\n",
      "Percentage of missing values in 'Electrical': 0.07%\n",
      "Percentage of missing values in '1stFlrSF': 0.00%\n",
      "Percentage of missing values in '2ndFlrSF': 0.00%\n",
      "Percentage of missing values in 'LowQualFinSF': 0.00%\n",
      "Percentage of missing values in 'GrLivArea': 0.00%\n",
      "Percentage of missing values in 'BsmtFullBath': 0.00%\n",
      "Percentage of missing values in 'BsmtHalfBath': 0.00%\n",
      "Percentage of missing values in 'FullBath': 0.00%\n",
      "Percentage of missing values in 'HalfBath': 0.00%\n",
      "Percentage of missing values in 'BedroomAbvGr': 0.00%\n",
      "Percentage of missing values in 'KitchenAbvGr': 0.00%\n",
      "Percentage of missing values in 'KitchenQual': 0.00%\n",
      "Percentage of missing values in 'TotRmsAbvGrd': 0.00%\n",
      "Percentage of missing values in 'Functional': 0.00%\n",
      "Percentage of missing values in 'Fireplaces': 0.00%\n",
      "Percentage of missing values in 'FireplaceQu': 47.26%\n",
      "Percentage of missing values in 'GarageType': 5.55%\n",
      "Percentage of missing values in 'GarageYrBlt': 5.55%\n",
      "Percentage of missing values in 'GarageFinish': 5.55%\n",
      "Percentage of missing values in 'GarageCars': 0.00%\n",
      "Percentage of missing values in 'GarageArea': 0.00%\n",
      "Percentage of missing values in 'GarageQual': 5.55%\n",
      "Percentage of missing values in 'GarageCond': 5.55%\n",
      "Percentage of missing values in 'PavedDrive': 0.00%\n",
      "Percentage of missing values in 'WoodDeckSF': 0.00%\n",
      "Percentage of missing values in 'OpenPorchSF': 0.00%\n",
      "Percentage of missing values in 'EnclosedPorch': 0.00%\n",
      "Percentage of missing values in '3SsnPorch': 0.00%\n",
      "Percentage of missing values in 'ScreenPorch': 0.00%\n",
      "Percentage of missing values in 'PoolArea': 0.00%\n",
      "Percentage of missing values in 'PoolQC': 99.52%\n",
      "Percentage of missing values in 'Fence': 80.75%\n",
      "Percentage of missing values in 'MiscFeature': 96.30%\n",
      "Percentage of missing values in 'MiscVal': 0.00%\n",
      "Percentage of missing values in 'MoSold': 0.00%\n",
      "Percentage of missing values in 'YrSold': 0.00%\n",
      "Percentage of missing values in 'SaleType': 0.00%\n",
      "Percentage of missing values in 'SaleCondition': 0.00%\n",
      "Percentage of missing values in 'SalePrice': 0.00%\n"
     ]
    }
   ],
   "source": [
    "# Print the percentage of missing values for each feature\n",
    "for feature, percentage in zip(pmissing.index, pmissing):\n",
    "    print(f\"Percentage of missing values in '{feature}': {percentage:.2f}%\")"
   ]
  },
  {
   "cell_type": "code",
   "execution_count": 14,
   "id": "b3165327",
   "metadata": {},
   "outputs": [],
   "source": [
    "# Excludes categorical data from correlation function... not specified whether we should use one hot encoding or not so decided to omit them\n",
    "#continuous_only is a dataframe that only contains the continuous data. I wanted to use continuvars above here and not use this line but I cannot figure out how to, \n",
    "continuous_only = hdata.select_dtypes(include=['number'])"
   ]
  },
  {
   "cell_type": "code",
   "execution_count": 15,
   "id": "336cef93",
   "metadata": {},
   "outputs": [],
   "source": [
    "tfeature = 'SalePrice'"
   ]
  },
  {
   "cell_type": "code",
   "execution_count": 16,
   "id": "7905be13",
   "metadata": {},
   "outputs": [
    {
     "name": "stdout",
     "output_type": "stream",
     "text": [
      "OverallQual    0.790982\n",
      "GrLivArea      0.708624\n",
      "Name: SalePrice, dtype: float64\n"
     ]
    }
   ],
   "source": [
    "corrs= continuous_only.corr()[tfeature]\n",
    "#sorts the correlations descending and takes the highest two correlations.\n",
    "sorted_corrs = corrs.sort_values(ascending=False)[1:3]\n",
    "print(sorted_corrs)"
   ]
  },
  {
   "cell_type": "code",
   "execution_count": 17,
   "id": "7db3bc9a",
   "metadata": {},
   "outputs": [],
   "source": [
    "# Extract relevant columns\n",
    "grlivarea = hdata['GrLivArea']\n",
    "overallqual = hdata['OverallQual']\n",
    "saleprice = hdata['SalePrice']"
   ]
  },
  {
   "cell_type": "code",
   "execution_count": 18,
   "id": "bfd69ed8",
   "metadata": {},
   "outputs": [
    {
     "data": {
      "text/plain": [
       "[<matplotlib.lines.Line2D at 0x1e6460e81d0>]"
      ]
     },
     "execution_count": 18,
     "metadata": {},
     "output_type": "execute_result"
    },
    {
     "data": {
      "image/png": "[encoded data removed]",
      "text/plain": [
       "<Figure size 640x480 with 1 Axes>"
      ]
     },
     "metadata": {},
     "output_type": "display_data"
    }
   ],
   "source": [
    "# Scatter plot 1: GrLivArea vs. SalePrice\n",
    "m, b = np.polyfit(grlivarea, saleprice,1)\n",
    "y_fit = m * grlivarea + b\n",
    "#line of best fit\n",
    "\n",
    "plt.scatter(grlivarea, saleprice)\n",
    "plt.xlabel('Gross Living Area (Sq. Ft.)')\n",
    "plt.ylabel('Sale Price ($)')\n",
    "plt.title('GrLivArea vs. Sale Price')\n",
    "plt.plot(grlivarea, y_fit, 'r')\n",
    "\n"
   ]
  },
  {
   "cell_type": "code",
   "execution_count": 19,
   "id": "2b8b26c1",
   "metadata": {},
   "outputs": [],
   "source": [
    "# Show the first scatter plot\n",
    "plt.show()"
   ]
  },
  {
   "cell_type": "code",
   "execution_count": 24,
   "id": "d0bbcb2b",
   "metadata": {},
   "outputs": [
    {
     "data": {
      "text/plain": [
       "[<matplotlib.lines.Line2D at 0x1e64b35c310>]"
      ]
     },
     "execution_count": 24,
     "metadata": {},
     "output_type": "execute_result"
    },
    {
     "data": {
      "image/png": "[encoded data removed]",
      "text/plain": [
       "<Figure size 640x480 with 1 Axes>"
      ]
     },
     "metadata": {},
     "output_type": "display_data"
    }
   ],
   "source": [
    "# Scatter plot 2: OverallQual vs. SalePrice\n",
    "m, b = np.polyfit(overallqual, saleprice,1)\n",
    "y_fit = m * overallqual + b\n",
    "#line of best fit\n",
    "\n",
    "plt.bar(overallqual, saleprice)\n",
    "plt.xlabel('Overall Quality')\n",
    "plt.ylabel('Sale Price ($)')\n",
    "plt.title('OverallQual vs. Sale Price')\n",
    "plt.plot(overallqual, y_fit, 'r')"
   ]
  },
  {
   "cell_type": "code",
   "execution_count": 21,
   "id": "37876d27",
   "metadata": {},
   "outputs": [],
   "source": [
    "# Show the second scatter plot\n",
    "plt.show()"
   ]
  },
  {
   "cell_type": "markdown",
   "id": "9f970f4d",
   "metadata": {},
   "source": [
    "DISCUSSION\n",
    "As per the data and two graphs, Overall Quality and Gross Living area are both highly positively correlated with Sales Price. This means that as O.Q. or GLA goes up, sales price follows.\n",
    "The graphs do a good job of visualizing that relationship, as we can see with the scatter plot and bar graphs. A scatter plot was most applicable for grlivingarea given both are continuous variables.\n",
    "Overall Quality is on a 1-10 scale, so it can be expressed both categorically or continously. A bar chart was most applicable considering data doesn't fall outside of the rigid 1-10 rankings.\n",
    "Both display a strong positive linear trend upward, suggesting high correlation. Logically, this makes sense as well. We would expect homes that have larger square footage and/or a higher overall quality rating to cost more."
   ]
  },
  {
   "cell_type": "code",
   "execution_count": 22,
   "id": "c636ab9b",
   "metadata": {},
   "outputs": [],
   "source": [
    "#py_file = 'hw1.py'\n",
    "#jupytext.write(jupytext.read(py_file), 'pedretti_christopher_hw1.ipynb')"
   ]
  }
 ],
 "metadata": {
  "jupytext": {
   "cell_metadata_filter": "-all",
   "main_language": "python",
   "notebook_metadata_filter": "-all"
  },
  "kernelspec": {
   "display_name": "Python 3",
   "language": "python",
   "name": "python3"
  },
  "language_info": {
   "codemirror_mode": {
    "name": "ipython",
    "version": 3
   },
   "file_extension": ".py",
   "mimetype": "text/x-python",
   "name": "python",
   "nbconvert_exporter": "python",
   "pygments_lexer": "ipython3",
   "version": "3.11.5"
  }
 },
 "nbformat": 4,
 "nbformat_minor": 5
}
