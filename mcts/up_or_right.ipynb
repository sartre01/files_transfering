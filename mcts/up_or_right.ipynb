{
 "cells": [
  {
   "cell_type": "code",
   "execution_count": null,
   "metadata": {},
   "outputs": [],
   "source": [
    "# up_or_right.py\n",
    "import random\n",
    "\n",
    "\n",
    "class State:\n",
    "    def __init__(self, x, y, action_id=0):\n",
    "        self.x = x\n",
    "        self.y = y\n",
    "        self._evaluation = (self.x * self.y)/((self.x/2 + self.y/2)**2)\n",
    "        self.action_id = action_id\n",
    "        #constructor contains and x and y as well as a set evaluation metric to determine how far up and right\n",
    "        #that state is\n",
    "\n",
    "    def find_children(self):\n",
    "        return [State(self.x + 1, self.y, action_id=0), State(self.x, self.y + 1, action_id=1)]\n",
    "    #determines available actions as potential states\n",
    "\n",
    "    def apply_action(self, action_id):\n",
    "        if action_id == 0:\n",
    "            return State(self.x + 1, self.y, action_id=0)\n",
    "        else:\n",
    "            return State(self.x, self.y + 1, action_id=1)\n",
    "        #returns new states given an action taken\n",
    "\n",
    "    def get_legal_actions(self):\n",
    "        return [0, 1]\n",
    "        #returns legal actions\n",
    "\n",
    "    def default_policy(self):\n",
    "        return random.choice(self.find_children())\n",
    "        #default behavior is to randomly choose between available actions\n",
    "\n",
    "    def evaluation(self):\n",
    "        return self._evaluation\n",
    "\n",
    "    def is_terminal(self):\n",
    "        return False"
   ]
  }
 ],
 "metadata": {
  "language_info": {
   "name": "python"
  }
 },
 "nbformat": 4,
 "nbformat_minor": 2
}
