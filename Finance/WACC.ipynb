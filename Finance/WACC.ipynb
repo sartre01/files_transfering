{
 "cells": [
  {
   "cell_type": "code",
   "execution_count": 19,
   "metadata": {},
   "outputs": [],
   "source": [
    "stock_price = 552.28\n",
    "num_shares_outstanding = 949267000\n",
    "mv_commonstock = stock_price*num_shares_outstanding"
   ]
  },
  {
   "cell_type": "code",
   "execution_count": 20,
   "metadata": {},
   "outputs": [],
   "source": [
    "est_ltd = 14737000000\n",
    "est_std = 1498000000\n",
    "est_ps = 2761450000"
   ]
  },
  {
   "cell_type": "code",
   "execution_count": 21,
   "metadata": {},
   "outputs": [
    {
     "data": {
      "text/plain": [
       "0.027127092598105976"
      ]
     },
     "execution_count": 21,
     "metadata": {},
     "output_type": "execute_result"
    }
   ],
   "source": [
    "ltd_percent = est_ltd/(mv_commonstock+est_ltd+est_std+est_ps)\n",
    "ltd_percent"
   ]
  },
  {
   "cell_type": "code",
   "execution_count": 22,
   "metadata": {},
   "outputs": [
    {
     "data": {
      "text/plain": [
       "0.15"
      ]
     },
     "execution_count": 22,
     "metadata": {},
     "output_type": "execute_result"
    }
   ],
   "source": [
    "target_percentltd = ltd_percent\n",
    "\n",
    "\n",
    "if target_percentltd < 0.15:\n",
    "    target_percentltd = 0.15\n",
    "    if target_percentltd > 0.4:\n",
    "        target_percentltd = 0.4\n",
    "target_percentltd"
   ]
  },
  {
   "cell_type": "code",
   "execution_count": 24,
   "metadata": {},
   "outputs": [
    {
     "data": {
      "text/plain": [
       "0.0050831315637538"
      ]
     },
     "execution_count": 24,
     "metadata": {},
     "output_type": "execute_result"
    }
   ],
   "source": [
    "ps_percent = est_ps/(mv_commonstock+est_ltd+est_std+est_ps)\n",
    "target_percentps = ps_percent\n",
    "target_percentps"
   ]
  },
  {
   "cell_type": "code",
   "execution_count": 25,
   "metadata": {},
   "outputs": [
    {
     "data": {
      "text/plain": [
       "0.0027574394186037016"
      ]
     },
     "execution_count": 25,
     "metadata": {},
     "output_type": "execute_result"
    }
   ],
   "source": [
    "std_percent = est_std/(mv_commonstock+est_ltd+est_std+est_ps)\n",
    "std_percent\n"
   ]
  },
  {
   "cell_type": "code",
   "execution_count": 26,
   "metadata": {},
   "outputs": [
    {
     "data": {
      "text/plain": [
       "0.0027574394186037016"
      ]
     },
     "execution_count": 26,
     "metadata": {},
     "output_type": "execute_result"
    }
   ],
   "source": [
    "target_percentstd = std_percent\n",
    "\n",
    "\n",
    "if target_percentltd+std_percent > 0.4:\n",
    "    target_percentstd = 0.4 - target_percentltd\n",
    "target_percentstd"
   ]
  },
  {
   "cell_type": "code",
   "execution_count": 27,
   "metadata": {},
   "outputs": [
    {
     "data": {
      "text/plain": [
       "0.06924"
      ]
     },
     "execution_count": 27,
     "metadata": {},
     "output_type": "execute_result"
    }
   ],
   "source": [
    "beta = 0.32\n",
    "rfr = 0.0438\n",
    "mrp = 0.0795\n",
    "coe = rfr+(beta*mrp)\n",
    "coe"
   ]
  },
  {
   "cell_type": "code",
   "execution_count": 28,
   "metadata": {},
   "outputs": [
    {
     "data": {
      "text/plain": [
       "0.04514132"
      ]
     },
     "execution_count": 28,
     "metadata": {},
     "output_type": "execute_result"
    }
   ],
   "source": [
    "#bond rating = \n",
    "bond_spread = 0.0088\n",
    "tax_rate = 0.1418\n",
    "ltd_cost = rfr + bond_spread\n",
    "atax_ltd_cost = (1-tax_rate)*ltd_cost\n",
    "atax_ltd_cost"
   ]
  },
  {
   "cell_type": "code",
   "execution_count": 30,
   "metadata": {},
   "outputs": [
    {
     "data": {
      "text/plain": [
       "0.0015"
      ]
     },
     "execution_count": 30,
     "metadata": {},
     "output_type": "execute_result"
    }
   ],
   "source": [
    "yield_ps = 0\n",
    "coupon_rate = 0.0015\n",
    "\n",
    "cost_ps = 0\n",
    "if yield_ps == 0:\n",
    "    if coupon_rate == 0:\n",
    "        cost_ps = 0\n",
    "    else:\n",
    "        cost_ps = coupon_rate\n",
    "else:\n",
    "    if coupon_rate == 0:\n",
    "        cost_ps = yield_ps\n",
    "    else:\n",
    "        cost_ps = (yield_ps+coupon_rate)/2\n",
    "cost_ps"
   ]
  },
  {
   "cell_type": "code",
   "execution_count": 32,
   "metadata": {},
   "outputs": [
    {
     "data": {
      "text/plain": [
       "0.072947"
      ]
     },
     "execution_count": 32,
     "metadata": {},
     "output_type": "execute_result"
    }
   ],
   "source": [
    "primary_rate = 0.085\n",
    "adj_prime = 0\n",
    "cost_std = primary_rate + adj_prime\n",
    "atax_cost_std = (1-tax_rate)*cost_std\n",
    "atax_cost_std"
   ]
  },
  {
   "cell_type": "code",
   "execution_count": 33,
   "metadata": {},
   "outputs": [
    {
     "data": {
      "text/plain": [
       "0.06532432391310851"
      ]
     },
     "execution_count": 33,
     "metadata": {},
     "output_type": "execute_result"
    }
   ],
   "source": [
    "WACC = ((1-target_percentltd-target_percentps-target_percentstd)*coe)+(target_percentltd*atax_ltd_cost)+(target_percentps*cost_ps)+(target_percentstd*cost_std)\n",
    "WACC"
   ]
  }
 ],
 "metadata": {
  "kernelspec": {
   "display_name": "Python 3",
   "language": "python",
   "name": "python3"
  },
  "language_info": {
   "codemirror_mode": {
    "name": "ipython",
    "version": 3
   },
   "file_extension": ".py",
   "mimetype": "text/x-python",
   "name": "python",
   "nbconvert_exporter": "python",
   "pygments_lexer": "ipython3",
   "version": "3.11.5"
  },
  "orig_nbformat": 4
 },
 "nbformat": 4,
 "nbformat_minor": 2
}
