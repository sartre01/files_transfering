{
 "cells": [
  {
   "cell_type": "markdown",
   "metadata": {},
   "source": [
    "Key Input Details - $000s"
   ]
  },
  {
   "cell_type": "code",
   "execution_count": 45,
   "metadata": {},
   "outputs": [],
   "source": [
    "import pandas as pd\n",
    "import numpy_financial as npf\n",
    "import numpy as np"
   ]
  },
  {
   "cell_type": "code",
   "execution_count": 46,
   "metadata": {},
   "outputs": [],
   "source": [
    "#key target characteristics\n",
    "ARR = 12000\n",
    "GAAPR = 12000\n",
    "GAAPR_nonrecurring = 6500\n",
    "GAAP_totalrevenue = GAAPR+GAAPR_nonrecurring\n",
    "EBITDA = 4500\n",
    "EBITDA_margin = EBITDA/GAAP_totalrevenue\n",
    "ARR_multiple = 8\n",
    "Price = 96000\n",
    "dcf_discountrate = 0.15\n",
    "tvgrowthrate = 0.045\n",
    "\n",
    "#base case performance assumptions\n",
    "ARR_growth = 0.2\n",
    "Nonrecurring_revenuegrowth = 0.03\n",
    "EBITDA_marginincrease = 0.05\n",
    "num_years = 6 # six to account for year 0/close\n",
    "#EBITDA_exitvalmultiple\n"
   ]
  },
  {
   "cell_type": "code",
   "execution_count": 47,
   "metadata": {},
   "outputs": [],
   "source": [
    "arr_values = [ARR]\n",
    "for i in range(1, num_years):\n",
    "    arr = ARR*(1+ARR_growth)**i\n",
    "    arr_values.append(arr)"
   ]
  },
  {
   "cell_type": "code",
   "execution_count": 48,
   "metadata": {},
   "outputs": [],
   "source": [
    "GAAP_rrvalues = [ARR]\n",
    "for i in range(1, num_years):\n",
    "    gaaprr = arr_values[i]*(GAAP_rrvalues[i-1]/arr_values[i-1])\n",
    "    GAAP_rrvalues.append(gaaprr)"
   ]
  },
  {
   "cell_type": "code",
   "execution_count": 49,
   "metadata": {},
   "outputs": [],
   "source": [
    "non_recurringrevenue = [GAAPR_nonrecurring]\n",
    "for i in range(1, num_years):\n",
    "    nonrr = GAAPR_nonrecurring*(1+Nonrecurring_revenuegrowth)**i\n",
    "    non_recurringrevenue.append(nonrr)"
   ]
  },
  {
   "cell_type": "code",
   "execution_count": 50,
   "metadata": {},
   "outputs": [],
   "source": [
    "total_revenue = []\n",
    "for i in range(0,num_years):\n",
    "    total_revenue.append(GAAP_rrvalues[i]+non_recurringrevenue[i])\n",
    "\n",
    "#use vectorized numpy here"
   ]
  },
  {
   "cell_type": "code",
   "execution_count": 51,
   "metadata": {},
   "outputs": [],
   "source": [
    "tr_growth_rates = [np.nan, 0.14, 0.15, 0.15, 0.16, 0.16]"
   ]
  },
  {
   "cell_type": "code",
   "execution_count": 53,
   "metadata": {},
   "outputs": [],
   "source": [
    "EBITDA_margins = [EBITDA_margin]\n",
    "#for i in range(1, num_years)"
   ]
  },
  {
   "cell_type": "code",
   "execution_count": null,
   "metadata": {},
   "outputs": [
    {
     "data": {
      "text/html": [
       "<div>\n",
       "<style scoped>\n",
       "    .dataframe tbody tr th:only-of-type {\n",
       "        vertical-align: middle;\n",
       "    }\n",
       "\n",
       "    .dataframe tbody tr th {\n",
       "        vertical-align: top;\n",
       "    }\n",
       "\n",
       "    .dataframe thead th {\n",
       "        text-align: right;\n",
       "    }\n",
       "</style>\n",
       "<table border=\"1\" class=\"dataframe\">\n",
       "  <thead>\n",
       "    <tr style=\"text-align: right;\">\n",
       "      <th></th>\n",
       "      <th>Year</th>\n",
       "      <th>ARR</th>\n",
       "      <th>ARR_Growth</th>\n",
       "      <th>GAAP_RR</th>\n",
       "      <th>Non-Recurring_Revenue</th>\n",
       "      <th>Non-Recurring_Revenue_Growth</th>\n",
       "      <th>Total_Revenue</th>\n",
       "      <th>Total_Revenue_Growth</th>\n",
       "    </tr>\n",
       "  </thead>\n",
       "  <tbody>\n",
       "    <tr>\n",
       "      <th>0</th>\n",
       "      <td>0</td>\n",
       "      <td>12000.00</td>\n",
       "      <td>0.2</td>\n",
       "      <td>12000.00</td>\n",
       "      <td>6500.000000</td>\n",
       "      <td>0.03</td>\n",
       "      <td>18500.000000</td>\n",
       "      <td>NaN</td>\n",
       "    </tr>\n",
       "    <tr>\n",
       "      <th>1</th>\n",
       "      <td>1</td>\n",
       "      <td>14400.00</td>\n",
       "      <td>0.2</td>\n",
       "      <td>14400.00</td>\n",
       "      <td>6695.000000</td>\n",
       "      <td>0.03</td>\n",
       "      <td>21095.000000</td>\n",
       "      <td>0.14</td>\n",
       "    </tr>\n",
       "    <tr>\n",
       "      <th>2</th>\n",
       "      <td>2</td>\n",
       "      <td>17280.00</td>\n",
       "      <td>0.2</td>\n",
       "      <td>17280.00</td>\n",
       "      <td>6895.850000</td>\n",
       "      <td>0.03</td>\n",
       "      <td>24175.850000</td>\n",
       "      <td>0.15</td>\n",
       "    </tr>\n",
       "    <tr>\n",
       "      <th>3</th>\n",
       "      <td>3</td>\n",
       "      <td>20736.00</td>\n",
       "      <td>0.2</td>\n",
       "      <td>20736.00</td>\n",
       "      <td>7102.725500</td>\n",
       "      <td>0.03</td>\n",
       "      <td>27838.725500</td>\n",
       "      <td>0.15</td>\n",
       "    </tr>\n",
       "    <tr>\n",
       "      <th>4</th>\n",
       "      <td>4</td>\n",
       "      <td>24883.20</td>\n",
       "      <td>0.2</td>\n",
       "      <td>24883.20</td>\n",
       "      <td>7315.807265</td>\n",
       "      <td>0.03</td>\n",
       "      <td>32199.007265</td>\n",
       "      <td>0.16</td>\n",
       "    </tr>\n",
       "    <tr>\n",
       "      <th>5</th>\n",
       "      <td>5</td>\n",
       "      <td>29859.84</td>\n",
       "      <td>0.2</td>\n",
       "      <td>29859.84</td>\n",
       "      <td>7535.281483</td>\n",
       "      <td>0.03</td>\n",
       "      <td>37395.121483</td>\n",
       "      <td>0.16</td>\n",
       "    </tr>\n",
       "  </tbody>\n",
       "</table>\n",
       "</div>"
      ],
      "text/plain": [
       "   Year       ARR  ARR_Growth   GAAP_RR  Non-Recurring_Revenue  \\\n",
       "0     0  12000.00         0.2  12000.00            6500.000000   \n",
       "1     1  14400.00         0.2  14400.00            6695.000000   \n",
       "2     2  17280.00         0.2  17280.00            6895.850000   \n",
       "3     3  20736.00         0.2  20736.00            7102.725500   \n",
       "4     4  24883.20         0.2  24883.20            7315.807265   \n",
       "5     5  29859.84         0.2  29859.84            7535.281483   \n",
       "\n",
       "   Non-Recurring_Revenue_Growth  Total_Revenue  Total_Revenue_Growth  \n",
       "0                          0.03   18500.000000                   NaN  \n",
       "1                          0.03   21095.000000                  0.14  \n",
       "2                          0.03   24175.850000                  0.15  \n",
       "3                          0.03   27838.725500                  0.15  \n",
       "4                          0.03   32199.007265                  0.16  \n",
       "5                          0.03   37395.121483                  0.16  "
      ]
     },
     "execution_count": 44,
     "metadata": {},
     "output_type": "execute_result"
    }
   ],
   "source": [
    "df = {\n",
    "    'Year': range(num_years),\n",
    "    'ARR': arr_values,\n",
    "    'ARR_Growth' : np.full(num_years,ARR_growth),\n",
    "    'GAAP_RR' : GAAP_rrvalues,\n",
    "    'Non-Recurring_Revenue' : non_recurringrevenue,\n",
    "    'Non-Recurring_Revenue_Growth' : np.full(num_years,Nonrecurring_revenuegrowth),\n",
    "    'Total_Revenue' : total_revenue,\n",
    "    'Total_Revenue_Growth' : tr_growth_rates\n",
    "    }\n",
    "df = pd.DataFrame(df)\n",
    "df"
   ]
  }
 ],
 "metadata": {
  "kernelspec": {
   "display_name": "Python 3",
   "language": "python",
   "name": "python3"
  },
  "language_info": {
   "codemirror_mode": {
    "name": "ipython",
    "version": 3
   },
   "file_extension": ".py",
   "mimetype": "text/x-python",
   "name": "python",
   "nbconvert_exporter": "python",
   "pygments_lexer": "ipython3",
   "version": "3.11.5"
  },
  "orig_nbformat": 4
 },
 "nbformat": 4,
 "nbformat_minor": 2
}
