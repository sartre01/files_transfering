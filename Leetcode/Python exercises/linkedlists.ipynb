{
 "cells": [
  {
   "cell_type": "code",
   "execution_count": 5,
   "metadata": {},
   "outputs": [],
   "source": [
    "class Node:\n",
    "    def __init__(self, value):\n",
    "        self.value = value\n",
    "        self.next = None"
   ]
  },
  {
   "cell_type": "code",
   "execution_count": 83,
   "metadata": {},
   "outputs": [],
   "source": [
    "class LinkedList:\n",
    "    def __init__(self, value):\n",
    "        new_node = Node(value)\n",
    "        self.head = new_node\n",
    "        self.tail = new_node\n",
    "        self.length = 1\n",
    "        #creates a node at beginning of list\n",
    "    \n",
    "    def append(self, value):\n",
    "        new_node = Node(value)\n",
    "        if self.head is None and self.tail is None:\n",
    "            self.head = new_node\n",
    "            self.tail = new_node\n",
    "        else:\n",
    "            self.tail.next = new_node\n",
    "            self.tail = new_node\n",
    "        \n",
    "        self.length += 1\n",
    "        return True\n",
    "        #creates a node and adds node to end of list\n",
    "    \n",
    "    def pop_first(self):\n",
    "        if self.length == 0:\n",
    "            return None\n",
    "        elif self.length == 1:\n",
    "            node = self.head\n",
    "            self.head = None\n",
    "            self.tail = None\n",
    "            self.length -= 1\n",
    "            return node\n",
    "        else:\n",
    "            node = self.head\n",
    "            self.head = self.head.next\n",
    "            self.length -= 1\n",
    "            return node\n",
    "    \n",
    "    # def pop(self):\n",
    "    #     if self.head is None and self.tail is None:\n",
    "    #         return None\n",
    "    #     elif self.head == self.tail:  # If there is only one element in the list\n",
    "    #         value = self.head.value\n",
    "    #         self.head = None\n",
    "    #         self.tail = None\n",
    "    #         self.length = 0\n",
    "    #         return value\n",
    "    #     else:\n",
    "    #         temp = self.head\n",
    "    #         while temp.next is not self.tail:\n",
    "    #             temp = temp.next\n",
    "    #         value = temp.next.value\n",
    "    #         temp.next = None\n",
    "    #         self.tail = temp\n",
    "    #         self.length -= 1\n",
    "    #         return value\n",
    "    \n",
    "    def pop(self):\n",
    "        if self.head is None:\n",
    "            return None\n",
    "        elif self.length == 1:\n",
    "            node = self.head\n",
    "            self.head = None\n",
    "            self.tail = None\n",
    "            self.length = 0\n",
    "            return node\n",
    "        else:\n",
    "            pre = self.head\n",
    "            temp = pre.next\n",
    "            while temp != self.tail:\n",
    "                pre = temp\n",
    "                temp = temp.next\n",
    "            pre.next = None\n",
    "            self.tail = pre\n",
    "            self.length -= 1\n",
    "            return temp\n",
    "    #removes and returns last element of list\n",
    "        \n",
    "    def prepend(self, value):\n",
    "        new_node = Node(value)\n",
    "        if self.length == 0:\n",
    "            self.head = new_node\n",
    "            self.tail = new_node\n",
    "        else:\n",
    "            new_node.next = self.head\n",
    "            self.head = new_node\n",
    "        self.length += 1\n",
    "        return True\n",
    "        #creates a node and adds node to beginning\n",
    "    \n",
    "    def get(self, index):\n",
    "        if index < 0 or index >= self.length:\n",
    "            return None\n",
    "        temp = self.head\n",
    "        for _ in range(index):\n",
    "            temp = temp.next\n",
    "        return temp\n",
    "    \n",
    "    def set_value(self, index, value):\n",
    "        temp = self.get(index)\n",
    "        if temp:\n",
    "            temp.value = value\n",
    "            return True\n",
    "        return False\n",
    "    \n",
    "    def insert(self, index, value):\n",
    "        if index < 0 or index >= self.length:\n",
    "            return False\n",
    "        elif index == 0:\n",
    "            self.prepend(value)\n",
    "        elif index == self.length:\n",
    "            self.append(value)\n",
    "        else:\n",
    "            temp = self.get(index-1)\n",
    "            new_node = Node(value)\n",
    "            new_node.next = temp.next\n",
    "            temp.next = new_node\n",
    "            self.length += 1\n",
    "        return True\n",
    "            \n",
    "        #creates and adds node to index within list\n",
    "    \n",
    "    def remove(self, index):\n",
    "        if index < 0 or self.length == 0 or index >= self.length:\n",
    "            return None\n",
    "        if index == 0:\n",
    "            return self.pop_first()\n",
    "        if index == self.length - 1:\n",
    "            return self.pop()\n",
    "        else:\n",
    "            prev = self.get(index-1)\n",
    "            temp = prev.next\n",
    "            prev.next = temp.next\n",
    "            self.length -= 1\n",
    "            return temp\n",
    "    \n",
    "    # def reverse(self):\n",
    "    #     temp = LinkedList(self.pop().value)\n",
    "    #     while self.length > 0:\n",
    "    #         temp.append(self.pop().value)\n",
    "    #     return temp\n",
    "    \n",
    "    def reverse(self):\n",
    "        temp = self.head\n",
    "        self.head = self.tail\n",
    "        self.tail = temp\n",
    "        after = temp.next\n",
    "        before = None\n",
    "        for _ in range(self.length):\n",
    "            after = temp.next\n",
    "            temp.next = before\n",
    "            before = temp\n",
    "            temp = after\n",
    "\n",
    "            \n",
    "    def print_list(self):\n",
    "        temp = self.head\n",
    "        while temp is not None:\n",
    "            print(temp.value)\n",
    "            temp = temp.next"
   ]
  },
  {
   "cell_type": "code",
   "execution_count": 84,
   "metadata": {},
   "outputs": [],
   "source": [
    "my_ll = LinkedList(0)"
   ]
  },
  {
   "cell_type": "code",
   "execution_count": 85,
   "metadata": {},
   "outputs": [
    {
     "data": {
      "text/plain": [
       "True"
      ]
     },
     "execution_count": 85,
     "metadata": {},
     "output_type": "execute_result"
    }
   ],
   "source": [
    "my_ll.append(1)\n",
    "my_ll.append(2)\n",
    "my_ll.append(3)\n",
    "my_ll.append(4)\n",
    "# my_ll.prepend(6)"
   ]
  },
  {
   "cell_type": "code",
   "execution_count": 87,
   "metadata": {},
   "outputs": [],
   "source": [
    "my_ll.reverse()"
   ]
  },
  {
   "cell_type": "code",
   "execution_count": 88,
   "metadata": {},
   "outputs": [
    {
     "name": "stdout",
     "output_type": "stream",
     "text": [
      "4\n"
     ]
    }
   ],
   "source": [
    "my_ll.print_list()"
   ]
  },
  {
   "cell_type": "code",
   "execution_count": 54,
   "metadata": {},
   "outputs": [
    {
     "data": {
      "text/plain": [
       "<__main__.Node at 0x219b64eced0>"
      ]
     },
     "execution_count": 54,
     "metadata": {},
     "output_type": "execute_result"
    }
   ],
   "source": [
    "my_ll.remove(3)"
   ]
  },
  {
   "cell_type": "code",
   "execution_count": 25,
   "metadata": {},
   "outputs": [
    {
     "data": {
      "text/plain": [
       "True"
      ]
     },
     "execution_count": 25,
     "metadata": {},
     "output_type": "execute_result"
    }
   ],
   "source": [
    "my_ll.set_value(2,6)"
   ]
  },
  {
   "cell_type": "code",
   "execution_count": 7,
   "metadata": {},
   "outputs": [
    {
     "data": {
      "text/plain": [
       "0"
      ]
     },
     "execution_count": 7,
     "metadata": {},
     "output_type": "execute_result"
    }
   ],
   "source": [
    "my_ll.pop_first()"
   ]
  },
  {
   "cell_type": "code",
   "execution_count": 8,
   "metadata": {},
   "outputs": [
    {
     "data": {
      "text/plain": [
       "4"
      ]
     },
     "execution_count": 8,
     "metadata": {},
     "output_type": "execute_result"
    }
   ],
   "source": [
    "my_ll.pop()"
   ]
  },
  {
   "cell_type": "code",
   "execution_count": 9,
   "metadata": {},
   "outputs": [
    {
     "name": "stdout",
     "output_type": "stream",
     "text": [
      "1\n",
      "2\n",
      "3\n"
     ]
    }
   ],
   "source": [
    "my_ll.print_list()"
   ]
  },
  {
   "cell_type": "code",
   "execution_count": 10,
   "metadata": {},
   "outputs": [
    {
     "data": {
      "text/plain": [
       "3"
      ]
     },
     "execution_count": 10,
     "metadata": {},
     "output_type": "execute_result"
    }
   ],
   "source": [
    "my_ll.pop()"
   ]
  },
  {
   "cell_type": "code",
   "execution_count": 11,
   "metadata": {},
   "outputs": [
    {
     "name": "stdout",
     "output_type": "stream",
     "text": [
      "1\n",
      "2\n"
     ]
    }
   ],
   "source": [
    "my_ll.print_list()"
   ]
  }
 ],
 "metadata": {
  "kernelspec": {
   "display_name": "Python 3",
   "language": "python",
   "name": "python3"
  },
  "language_info": {
   "codemirror_mode": {
    "name": "ipython",
    "version": 3
   },
   "file_extension": ".py",
   "mimetype": "text/x-python",
   "name": "python",
   "nbconvert_exporter": "python",
   "pygments_lexer": "ipython3",
   "version": "3.11.8"
  }
 },
 "nbformat": 4,
 "nbformat_minor": 2
}
